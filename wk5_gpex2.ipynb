{
 "cells": [
  {
   "cell_type": "markdown",
   "id": "5c21373d",
   "metadata": {},
   "source": [
    "# 1. Make a function that can take any non-negative integer as an argument and return it with its digits in descending order. \n"
   ]
  },
  {
   "cell_type": "code",
   "execution_count": 18,
   "id": "54708b67",
   "metadata": {},
   "outputs": [
    {
     "data": {
      "text/plain": [
       "'95430'"
      ]
     },
     "execution_count": 18,
     "metadata": {},
     "output_type": "execute_result"
    }
   ],
   "source": [
    "def descending_fun(default_val = 111111):\n",
    "    my_in = str(default_val)\n",
    "    container = []\n",
    "    if default_val<=0:\n",
    "        return(\"positive number needed\")\n",
    "    else:\n",
    "        for i in my_in:\n",
    "            container.append(i)\n",
    "            #sort values in list \n",
    "            sorted_list = sorted(my_in, reverse=True)\n",
    "            #joining the str together \n",
    "            my_in= \"\".join(sorted_list)\n",
    "            \n",
    "            return(my_in)\n",
    "            \n",
    "    \n",
    "    \n",
    "#Input = 43905 Output = 95430\n",
    "descending_fun(43905)      "
   ]
  },
  {
   "cell_type": "code",
   "execution_count": 14,
   "id": "1c410f01",
   "metadata": {},
   "outputs": [
    {
     "data": {
      "text/plain": [
       "'866543'"
      ]
     },
     "execution_count": 14,
     "metadata": {},
     "output_type": "execute_result"
    }
   ],
   "source": [
    "#Input = 584366 Output = 866543\n",
    "descending_fun(584366)"
   ]
  },
  {
   "cell_type": "code",
   "execution_count": 16,
   "id": "4463735a",
   "metadata": {},
   "outputs": [
    {
     "data": {
      "text/plain": [
       "'111111'"
      ]
     },
     "execution_count": 16,
     "metadata": {},
     "output_type": "execute_result"
    }
   ],
   "source": [
    "#If no number is passed in, make the default value inputted = 111111\n",
    "descending_fun()"
   ]
  },
  {
   "cell_type": "markdown",
   "id": "4ea43a20",
   "metadata": {},
   "source": [
    "# 2.  Import jeopardy.csv and create a dataframe from the data. Find out the following:\n"
   ]
  },
  {
   "cell_type": "code",
   "execution_count": null,
   "id": "2f2deff1",
   "metadata": {},
   "outputs": [],
   "source": [
    "\n",
    "#a. How many rows are there in the dataframe? What does a row represent?\n",
    "#b. How many unique shows were there each year?\n",
    "#c. Think of another question that this data can help answer. Make that question a\n",
    "#header in your notebook.\n",
    "#d. Answer your question and show the steps you used to do so clearly"
   ]
  },
  {
   "cell_type": "code",
   "execution_count": 2,
   "id": "12ff6862",
   "metadata": {},
   "outputs": [
    {
     "data": {
      "text/html": [
       "<div>\n",
       "<style scoped>\n",
       "    .dataframe tbody tr th:only-of-type {\n",
       "        vertical-align: middle;\n",
       "    }\n",
       "\n",
       "    .dataframe tbody tr th {\n",
       "        vertical-align: top;\n",
       "    }\n",
       "\n",
       "    .dataframe thead th {\n",
       "        text-align: right;\n",
       "    }\n",
       "</style>\n",
       "<table border=\"1\" class=\"dataframe\">\n",
       "  <thead>\n",
       "    <tr style=\"text-align: right;\">\n",
       "      <th></th>\n",
       "      <th>Show Number</th>\n",
       "      <th>Air Date</th>\n",
       "      <th>Round</th>\n",
       "      <th>Category</th>\n",
       "      <th>Value</th>\n",
       "      <th>Question</th>\n",
       "      <th>Answer</th>\n",
       "    </tr>\n",
       "  </thead>\n",
       "  <tbody>\n",
       "    <tr>\n",
       "      <th>0</th>\n",
       "      <td>4680</td>\n",
       "      <td>12/31/2004</td>\n",
       "      <td>Jeopardy!</td>\n",
       "      <td>HISTORY</td>\n",
       "      <td>$200</td>\n",
       "      <td>For the last 8 years of his life, Galileo was ...</td>\n",
       "      <td>Copernicus</td>\n",
       "    </tr>\n",
       "    <tr>\n",
       "      <th>1</th>\n",
       "      <td>4680</td>\n",
       "      <td>12/31/2004</td>\n",
       "      <td>Jeopardy!</td>\n",
       "      <td>ESPN's TOP 10 ALL-TIME ATHLETES</td>\n",
       "      <td>$200</td>\n",
       "      <td>No. 2: 1912 Olympian; football star at Carlisl...</td>\n",
       "      <td>Jim Thorpe</td>\n",
       "    </tr>\n",
       "    <tr>\n",
       "      <th>2</th>\n",
       "      <td>4680</td>\n",
       "      <td>12/31/2004</td>\n",
       "      <td>Jeopardy!</td>\n",
       "      <td>EVERYBODY TALKS ABOUT IT...</td>\n",
       "      <td>$200</td>\n",
       "      <td>The city of Yuma in this state has a record av...</td>\n",
       "      <td>Arizona</td>\n",
       "    </tr>\n",
       "    <tr>\n",
       "      <th>3</th>\n",
       "      <td>4680</td>\n",
       "      <td>12/31/2004</td>\n",
       "      <td>Jeopardy!</td>\n",
       "      <td>THE COMPANY LINE</td>\n",
       "      <td>$200</td>\n",
       "      <td>In 1963, live on \"The Art Linkletter Show\", th...</td>\n",
       "      <td>McDonald's</td>\n",
       "    </tr>\n",
       "    <tr>\n",
       "      <th>4</th>\n",
       "      <td>4680</td>\n",
       "      <td>12/31/2004</td>\n",
       "      <td>Jeopardy!</td>\n",
       "      <td>EPITAPHS &amp; TRIBUTES</td>\n",
       "      <td>$200</td>\n",
       "      <td>Signer of the Dec. of Indep., framer of the Co...</td>\n",
       "      <td>John Adams</td>\n",
       "    </tr>\n",
       "  </tbody>\n",
       "</table>\n",
       "</div>"
      ],
      "text/plain": [
       "   Show Number    Air Date      Round                         Category  Value  \\\n",
       "0         4680  12/31/2004  Jeopardy!                          HISTORY  $200    \n",
       "1         4680  12/31/2004  Jeopardy!  ESPN's TOP 10 ALL-TIME ATHLETES  $200    \n",
       "2         4680  12/31/2004  Jeopardy!      EVERYBODY TALKS ABOUT IT...  $200    \n",
       "3         4680  12/31/2004  Jeopardy!                 THE COMPANY LINE  $200    \n",
       "4         4680  12/31/2004  Jeopardy!              EPITAPHS & TRIBUTES  $200    \n",
       "\n",
       "                                            Question      Answer  \n",
       "0  For the last 8 years of his life, Galileo was ...  Copernicus  \n",
       "1  No. 2: 1912 Olympian; football star at Carlisl...  Jim Thorpe  \n",
       "2  The city of Yuma in this state has a record av...     Arizona  \n",
       "3  In 1963, live on \"The Art Linkletter Show\", th...  McDonald's  \n",
       "4  Signer of the Dec. of Indep., framer of the Co...  John Adams  "
      ]
     },
     "execution_count": 2,
     "metadata": {},
     "output_type": "execute_result"
    }
   ],
   "source": [
    "import pandas as pd\n",
    "import numpy as np\n",
    "\n",
    "\n",
    "jep = \"JEOPARDY_CSV.csv\"\n",
    "jep_df = pd.read_csv(\"JEOPARDY_CSV.csv\")\n",
    "jep_df.head()"
   ]
  },
  {
   "cell_type": "markdown",
   "id": "a83abd36",
   "metadata": {},
   "source": [
    "# a. How many rows are there in the dataframe? What does a row represent?\n",
    "\n"
   ]
  },
  {
   "cell_type": "code",
   "execution_count": 4,
   "id": "afc0cb45",
   "metadata": {},
   "outputs": [
    {
     "data": {
      "text/plain": [
       "216930"
      ]
     },
     "execution_count": 4,
     "metadata": {},
     "output_type": "execute_result"
    }
   ],
   "source": [
    "#A row represents a line of data within a column of a data frame or across columns of data\n",
    "len(jep_df)"
   ]
  },
  {
   "cell_type": "markdown",
   "id": "bb726b66",
   "metadata": {},
   "source": [
    "# b. How many unique shows were there each year?\n"
   ]
  },
  {
   "cell_type": "code",
   "execution_count": 3,
   "id": "f7da738a",
   "metadata": {},
   "outputs": [
    {
     "name": "stdout",
     "output_type": "stream",
     "text": [
      "Year\n",
      "1984     23\n",
      "1985     16\n",
      "1986     25\n",
      "1987     22\n",
      "1988     22\n",
      "1989     36\n",
      "1990     73\n",
      "1991     24\n",
      "1992     32\n",
      "1993     35\n",
      "1994     19\n",
      "1995     19\n",
      "1996     83\n",
      "1997    221\n",
      "1998    223\n",
      "1999    229\n",
      "2000    225\n",
      "2001    203\n",
      "2002    114\n",
      "2003    158\n",
      "2004    220\n",
      "2005    225\n",
      "2006    230\n",
      "2007    231\n",
      "2008    232\n",
      "2009    226\n",
      "2010    231\n",
      "2011    224\n",
      "2012     19\n",
      "Name: Show Number, dtype: int64\n"
     ]
    }
   ],
   "source": [
    "# group date and shows\n",
    "jp2=jep_df.groupby( \" Air Date\")['Show Number'].value_counts()\n",
    "\n",
    "\n",
    "#jep_df[\"Year\"]=\n",
    "jep_df.dtypes\n",
    "# first change Air Date to a date format\n",
    "\n",
    "jep_df[\" Air Date\"] = jep_df[\" Air Date\"].astype('datetime64[ns]')\n",
    "\n",
    "#then pull year \n",
    "jep_df[\"Year\"] = jep_df[\" Air Date\"].dt.year\n",
    "jep_df.head()\n",
    "#grouping the data by year/show and isolating just the unique shows per year\n",
    "jp2=jep_df.groupby( \"Year\")['Show Number'].nunique()\n",
    "print(jp2.head(29))"
   ]
  },
  {
   "cell_type": "markdown",
   "id": "b8de6866",
   "metadata": {},
   "source": [
    "#  c&d. What unique question and answer combinations exhit in this data set?\n"
   ]
  },
  {
   "cell_type": "code",
   "execution_count": 22,
   "id": "1704241f",
   "metadata": {},
   "outputs": [
    {
     "name": "stdout",
     "output_type": "stream",
     "text": [
      " Question                                                                               Answer                                             \n",
      "\" 'Cause I'm never gonna stop the rain by complaini                                    Butch Cassidy and the Sundance Kid                      1\n",
      "\" 'Charge' was the captain's cry; theirs not to reason why, theirs not to make reply\"  Alfred Lord Tennyson (\"Charge of the Light Brigade\")    1\n",
      "\" 'I'm going to the racetrac                                                           Tom Swifty                                              1\n",
      "\" _____  \" & \" ____ in the Air\"                                                        Up                                                      1\n",
      "\" _____ Hills, 90210\"                                                                  B-E-V-E-R-L-Y                                           1\n",
      "Name:  Answer, dtype: int64\n"
     ]
    }
   ],
   "source": [
    "#c. Think of another question that this data can help answer. Make that question a\n",
    "#header in your notebook.\n",
    "\n",
    "#grouping question and answer then limiting to the unique combos and counting\n",
    "jp3=jep_df.groupby(\" Question\")[\" Answer\"].value_counts()\n",
    "\n",
    "print(jp3.head())"
   ]
  },
  {
   "cell_type": "markdown",
   "id": "f443b431",
   "metadata": {},
   "source": [
    "# Create any graph using matplotlib that helps you understand the jeopardy data. Explain what your graph shows and why it is useful.\n"
   ]
  },
  {
   "cell_type": "markdown",
   "id": "ea7def56",
   "metadata": {},
   "source": [
    "These two plots display the number of qusetions asked across 10 shows. More spefically the top 10 shows with highest and lowest number of questions. From this we can estimate the average amount of questions asked for data provided. We can also deduce that on all other showsbetween aproximately 40 and 60 questions are asked. "
   ]
  },
  {
   "cell_type": "code",
   "execution_count": 89,
   "id": "0a227bc7",
   "metadata": {},
   "outputs": [
    {
     "data": {
      "image/png": "[encoded data removed]",
      "text/plain": [
       "<Figure size 432x288 with 1 Axes>"
      ]
     },
     "metadata": {
      "needs_background": "light"
     },
     "output_type": "display_data"
    }
   ],
   "source": [
    "jp2=jep_df.groupby( \"Year\")['Show Number'].nunique()\n",
    "jp5=jep_df.groupby( \"Show Number\")[' Question'].count().nlargest(10) #highest # of questions\n",
    "jp6=jp5.mean()\n",
    "\n",
    "#set up for plot\n",
    "fig, ax = plt.subplots()\n",
    "# #create bar plot with title\n",
    "#used ax = because im not using the dataframe directly for the data\n",
    "ax = jp5.plot(kind = \"bar\", title =\"Top 10 Shows with the Most Questions Asked\", color='black') \n",
    "\n",
    "#labels\n",
    "plt.xlabel(\"Show Number\")\n",
    "plt.ylabel(\"# of Questions asked\")\n",
    "plt.show()"
   ]
  },
  {
   "cell_type": "code",
   "execution_count": 95,
   "id": "4c6293f9",
   "metadata": {},
   "outputs": [
    {
     "data": {
      "image/png": "[encoded data removed]",
      "text/plain": [
       "<Figure size 432x288 with 1 Axes>"
      ]
     },
     "metadata": {
      "needs_background": "light"
     },
     "output_type": "display_data"
    }
   ],
   "source": [
    "jp2=jep_df.groupby( \"Year\")['Show Number'].nunique()\n",
    "jp7=jep_df.groupby( \"Show Number\")[' Question'].count().nsmallest(10) #lowest number of questions\n",
    "jp8=jp7.mean()\n",
    "\n",
    "#set up for plot\n",
    "fig, ax = plt.subplots()\n",
    "#create bar plot with title\n",
    "ax = jp7.plot(kind = \"bar\", title =\"Top 10 Shows with the Least Amount of Questions Asked\", color='gray')\n",
    "\n",
    "#labels\n",
    "plt.xlabel(\"Show Number\")\n",
    "plt.ylabel(\"# of Questions asked\")\n",
    "plt.show()"
   ]
  },
  {
   "cell_type": "code",
   "execution_count": null,
   "id": "2feaee12",
   "metadata": {},
   "outputs": [],
   "source": []
  },
  {
   "cell_type": "code",
   "execution_count": null,
   "id": "4e2026c6",
   "metadata": {},
   "outputs": [],
   "source": []
  },
  {
   "cell_type": "code",
   "execution_count": 88,
   "id": "66a62859",
   "metadata": {},
   "outputs": [
    {
     "data": {
      "image/png": "[encoded data removed]",
      "text/plain": [
       "<Figure size 432x288 with 1 Axes>"
      ]
     },
     "metadata": {
      "needs_background": "light"
     },
     "output_type": "display_data"
    }
   ],
   "source": [
    "#just working on ploting with bar plots\n",
    "\n",
    "import matplotlib.pyplot as plt\n",
    "# df by unique shows year \n",
    "jp2=jep_df.groupby( \"Year\")['Show Number'].nunique()\n",
    "fig, ax = plt.subplots()\n",
    "ax = jp2.plot(kind='bar', title =\"# of Unique Jepardy Shows per Year\",color='blue')\n",
    "plt.xlabel(\"Year\")\n",
    "plt.ylabel(\"Unique # of Shows\")\n",
    "plt.show()"
   ]
  },
  {
   "cell_type": "code",
   "execution_count": null,
   "id": "5c9e106b",
   "metadata": {},
   "outputs": [],
   "source": []
  }
 ],
 "metadata": {
  "kernelspec": {
   "display_name": "Python 3 (ipykernel)",
   "language": "python",
   "name": "python3"
  },
  "language_info": {
   "codemirror_mode": {
    "name": "ipython",
    "version": 3
   },
   "file_extension": ".py",
   "mimetype": "text/x-python",
   "name": "python",
   "nbconvert_exporter": "python",
   "pygments_lexer": "ipython3",
   "version": "3.9.7"
  }
 },
 "nbformat": 4,
 "nbformat_minor": 5
}
